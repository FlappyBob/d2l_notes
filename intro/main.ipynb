{
 "cells": [
  {
   "attachments": {
    "image.png": {
     "image/png": "[encoded data removed]"
    }
   },
   "cell_type": "markdown",
   "metadata": {},
   "source": [
    "## Why bother study ML? \n",
    "\n",
    "how to solve problem: wake up siri? \n",
    "\n",
    "![image.png](attachment:image.png)\n",
    "\n",
    "## 方法： \n",
    "1. 可以用来学习的数据（data）；\n",
    "\n",
    "2. 如何转换数据的模型（model）；\n",
    "\n",
    "3. 一个目标函数（objective function），用来量化模型的有效性；\n",
    "\n",
    "4. 调整模型参数以优化目标函数的算法（algorithm）。\n",
    "\n",
    "接下来我们一一介绍。"
   ]
  },
  {
   "cell_type": "markdown",
   "metadata": {},
   "source": [
    "## 数据\n",
    "\n",
    "数据是什么？ 数据 = N * sample (i.i.d) -> 样本遵循相互独立但是是同一个分布。\n",
    "\n",
    "> **独立性**（Independent）： 每个样本之间相互独立，任何一个样本的取值不会影响其他样本的取值。比如，从一副扑克牌中每次抽牌后放回，每次抽牌结果互不影响。\n",
    "> **同分布**（Identically Distributed）： 所有样本都来自同一个概率分布，且服从相同的分布规律。比如，每次掷同一个骰子，结果都服从相同的概率分布（均匀分布）。\n",
    "\n",
    "数据需要是**正确的**：有一句古语很好地反映了这个现象：“输入的是垃圾，输出的也是垃圾。”（“Garbage in, garbage out.”）"
   ]
  },
  {
   "cell_type": "markdown",
   "metadata": {},
   "source": [
    "## 模型\n",
    "\n"
   ]
  },
  {
   "cell_type": "markdown",
   "metadata": {},
   "source": [
    "## 目标函数\n",
    "\n",
    "目的：为了对模型的表现做出量化and优化。\n",
    "\n",
    "* 分类问题：错误率`(y == 1).sum() / y.shape`（这不是一个好的选择），因为它的不可导性。\n",
    "\n",
    "* regression问题：平方误差  $(\\hat{y} - y)^2 / 2$"
   ]
  },
  {
   "cell_type": "markdown",
   "metadata": {},
   "source": [
    "## 优化算法\n"
   ]
  },
  {
   "cell_type": "markdown",
   "metadata": {},
   "source": [
    "## 一些学习问题。"
   ]
  },
  {
   "cell_type": "markdown",
   "metadata": {},
   "source": [
    "### 监督学习\n",
    "\n",
    "* 根据计算机断层扫描（Computed Tomography，CT）肿瘤图像，预测是否为癌症；\n",
    "\n",
    "* 给出一个英语句子，预测正确的法语翻译；\n",
    "\n",
    "* 根据本月的财务报告数据，预测下个月股票的价格；\n",
    "\n",
    "method：\n",
    "1. 从已知大量数据样本中随机选取一个子集，为每个样本获取真实标签。有时，这些样本已有标签（例如，患者是否在下一年内康复？）；有时，这些样本可能需要被人工标记（例如，图像分类）。这些输入和相应的标签一起构成了训练数据集；\n",
    "\n",
    "2. 选择有监督的学习算法，它将训练数据集作为输入，并输出一个“已完成学习的模型”；\n",
    "\n",
    "3. 将之前没有见过的样本特征放到这个“已完成学习的模型”中，使用模型的输出作为相应标签的预测。\n",
    "\n",
    "\n",
    "很多时候认识一个问题相当重要：接下来我们就干这个事情。 \n"
   ]
  },
  {
   "cell_type": "markdown",
   "metadata": {},
   "source": [
    "#### 回归问题\n",
    "什么是回归问题？ ans：当标签取任意数值时，我们称之为回归问题，此时的目标是生成一个模型，使它的预测非常接近实际标签值。\n",
    "\n",
    "比如：\n",
    "1. 你从彩票的每个数字的揭露，预测出你能赚多少钱。\n",
    "2. 你从这个月每天的降雨数，温度，湿度，预测下个月的第一天的降雨。\n",
    "3. 根据房屋的性质（在哪里，面积，结构，老旧程度），预测这个房屋的价格。"
   ]
  },
  {
   "cell_type": "markdown",
   "metadata": {},
   "source": [
    "### 分类问题：\n",
    "\n",
    "思考以下的问题： 例如，一家银行希望在其移动应用程序中添加支票扫描功能。 具体地说，这款应用程序能够自动理解从图像中看到的文本，并将手写字符映射到对应的已知字符之上\n",
    "\n"
   ]
  },
  {
   "cell_type": "markdown",
   "metadata": {},
   "source": [
    "### label问题\n",
    "ex:人们在技术博客上贴的标签，比如“机器学习”“技术”“小工具”“编程语言”“Linux”“云计算”“AWS\n",
    "\n",
    "此外，在处理生物医学文献时，我们也会遇到这类问题。 正确地标记文献很重要，有利于研究人员对文献进行详尽的审查。 在美国国家医学图书馆（The United States National Library of Medicine），一些专业的注释员会检查每一篇在PubMed中被索引的文章，以便将其与Mesh中的相关术语相关联（Mesh是一个大约有28000个标签的集合）。 这是一个十分耗时的过程，注释器通常在归档和标记之间有一年的延迟。 这里，机器学习算法可以提供临时标签，直到每一篇文章都有严格的人工审核。 事实上，近几年来，BioASQ组织已经举办比赛来完成这项工作。"
   ]
  },
  {
   "cell_type": "markdown",
   "metadata": {},
   "source": [
    "### 搜索问题\n",
    "返回“A、B、C、D、E”和“C、A、B、E、D”是不同的"
   ]
  },
  {
   "cell_type": "markdown",
   "metadata": {},
   "source": [
    "### 推荐系统问题\n",
    "\n"
   ]
  },
  {
   "cell_type": "markdown",
   "metadata": {},
   "source": [
    "### 序列学习和模型的记忆。\n",
    "\n",
    "ex1:监控重症监护病人：你想要把一段时间内的他的参数变成一个scalar，死亡风险。如果他们在未来24小时内死亡的风险超过某个阈值，这个模型就会发出警报。\n",
    "\n",
    "因此关于这个序列化的问题，我们绝不希望抛弃过去每小时有关病人病史的所有信息，而仅根据最近的测量结果做出预测。\n",
    "\n",
    "ex2:语音识别问题：你想要把一段语音变成一段caption。但是难点在于一个语音帧并不代表 -> 一个caption\n",
    "\n",
    "ex3: 文本到语音。可以想象的难点是输入极短但是输出极长。\n",
    "ex4: 机器翻译。可以想象的难点是各语言的语法不同。因此如何设计序列化的算法是个难题。\n"
   ]
  },
  {
   "cell_type": "markdown",
   "metadata": {},
   "source": [
    "### 无监督学习\n",
    "TODO\n"
   ]
  },
  {
   "cell_type": "markdown",
   "metadata": {},
   "source": [
    "\n",
    "### ML和环境的关系\n",
    "\n"
   ]
  },
  {
   "cell_type": "markdown",
   "metadata": {},
   "source": [
    "### 强化学习"
   ]
  }
 ],
 "metadata": {
  "kernelspec": {
   "display_name": "Python 3",
   "language": "python",
   "name": "python3"
  },
  "language_info": {
   "name": "python",
   "version": "3.10.12"
  }
 },
 "nbformat": 4,
 "nbformat_minor": 2
}
