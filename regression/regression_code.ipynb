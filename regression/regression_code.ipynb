{
 "cells": [
  {
   "cell_type": "code",
   "execution_count": 1,
   "metadata": {},
   "outputs": [],
   "source": [
    "%matplotlib inline\n",
    "import torch\n",
    "from d2l import torch as d2l"
   ]
  },
  {
   "cell_type": "code",
   "execution_count": null,
   "metadata": {},
   "outputs": [],
   "source": [
    "# optim: miniBatch SGD \n",
    "# init weights: a normal distribution with mean 0 and a standard deviation of 0.01\n",
    "# init biases: 0"
   ]
  },
  {
   "cell_type": "code",
   "execution_count": 5,
   "metadata": {},
   "outputs": [],
   "source": [
    "class LinearRegression(d2l.Module): \n",
    "    ''' \n",
    "    Implementation of Linear Regression Model\n",
    "    nums_inputs: number of dimention of X \n",
    "    lr: learning rate \n",
    "    sigma: weight init parameters\n",
    "    '''\n",
    "    def __init__(self, nums_inputs, lr, sigma=0.01):\n",
    "        super.__init__()\n",
    "        self.save_hyperparameters(); \n",
    "        self.w=torch.normal(0, sigma, (nums_inputs, 1), requires_grad=True)\n",
    "        self.b=torch.zeros(1)"
   ]
  },
  {
   "cell_type": "code",
   "execution_count": null,
   "metadata": {},
   "outputs": [],
   "source": [
    "@d2l.add_to_class(LinearRegression)\n",
    "def forward(self, X): \n",
    "    # X -> (1, nums_inputs)\n",
    "    return X @ self.w + self.b"
   ]
  }
 ],
 "metadata": {
  "kernelspec": {
   "display_name": "Python 3",
   "language": "python",
   "name": "python3"
  },
  "language_info": {
   "codemirror_mode": {
    "name": "ipython",
    "version": 3
   },
   "file_extension": ".py",
   "mimetype": "text/x-python",
   "name": "python",
   "nbconvert_exporter": "python",
   "pygments_lexer": "ipython3",
   "version": "3.10.12"
  }
 },
 "nbformat": 4,
 "nbformat_minor": 2
}
