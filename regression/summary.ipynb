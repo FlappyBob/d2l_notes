{
 "cells": [
  {
   "cell_type": "markdown",
   "metadata": {},
   "source": [
    "## 决策\n",
    "\n",
    "我们如何知道自己的数据和自己想要找的pattern是一致的呢？"
   ]
  },
  {
   "cell_type": "markdown",
   "metadata": {},
   "source": [
    "### 一些重要的假设\n",
    "1. Training data and the test data are drawn **independently** from identical distributions. This is commonly called the **IID** assumption\n",
    "\n",
    "2. 我们干的事情无非是最小化$R_\\textrm{emp}[\\mathbf{X}, \\mathbf{y}, f] = \\frac{1}{n} \\sum_{i=1}^n l(\\mathbf{x}^{(i)}, y^{(i)}, f(\\mathbf{x}^{(i)})),$"
   ]
  },
  {
   "cell_type": "markdown",
   "metadata": {},
   "source": [
    "## 一些pattern\n",
    "1. train l/validation l 都很大的时候是model的问题\n",
    "2. train l小/validation l大 是overfitting的问题\n",
    "3. "
   ]
  }
 ],
 "metadata": {
  "language_info": {
   "name": "python"
  }
 },
 "nbformat": 4,
 "nbformat_minor": 2
}
