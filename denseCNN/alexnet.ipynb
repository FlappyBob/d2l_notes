{
 "cells": [
  {
   "cell_type": "markdown",
   "metadata": {},
   "source": [
    "# AlexNet\n",
    "\n",
    "这是alexnet一个简洁的实现。\n",
    "\n",
    "看一点历史：https://d2l.ai/chapter_convolutional-modern/alexnet.html"
   ]
  }
 ],
 "metadata": {
  "language_info": {
   "name": "python"
  }
 },
 "nbformat": 4,
 "nbformat_minor": 2
}
