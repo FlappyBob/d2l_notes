{
 "cells": [
  {
   "cell_type": "markdown",
   "metadata": {},
   "source": [
    "## CNN用来干什么？\n",
    "CNN 之所以能够高效进行图像识别，正是因为它具备空间不变性（spatial invariance）。也就是说，无论物体出现在图像的哪个位置，CNN 仍然能够检测到它。这种特性使 CNN 在物体检测、图像分割 和 目标识别 任务中表现出色。"
   ]
  },
  {
   "cell_type": "markdown",
   "metadata": {},
   "source": [
    "## 为什么有用？\n",
    "\n",
    "我认为要理解一些概念，然后自然就会理解了。\n",
    "1. receptive fields。注意力一开始全是小的，然后逐渐堆叠，到最后每一小块pixel可能都是大多数feature的注意力权重汇总。这其实是分冶的思想。\n",
    "2. inductive bias -- 主要来自于处理图像（尤其是图像识别这种问题）的时候并不用在意全部，用一块小小的注意力权重矩阵就够了。"
   ]
  },
  {
   "cell_type": "markdown",
   "metadata": {},
   "source": [
    "## 一些常规使用\n",
    "\n"
   ]
  },
  {
   "cell_type": "markdown",
   "metadata": {},
   "source": []
  }
 ],
 "metadata": {
  "language_info": {
   "name": "python"
  }
 },
 "nbformat": 4,
 "nbformat_minor": 2
}
